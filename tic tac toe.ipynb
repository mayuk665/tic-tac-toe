{
 "cells": [
  {
   "cell_type": "code",
   "execution_count": null,
   "id": "3045174c",
   "metadata": {},
   "outputs": [],
   "source": [
    "from IPython.display import clear_output\n",
    "def display_board(board):\n",
    "    clear_output()\n",
    "    print(\"   |   |   \")\n",
    "    print(\" {} | {} | {} \".format(board[7],board[8],board[9]))\n",
    "    print(\"   |   |   \")\n",
    "    print(\"-----------\")\n",
    "    print(\"   |   |   \")\n",
    "    print(\" {} | {} | {} \".format(board[4],board[5],board[6]))\n",
    "    print(\"   |   |   \")\n",
    "    print(\"-----------\")\n",
    "    print(\"   |   |   \")\n",
    "    print(\" {} | {} | {} \".format(board[1],board[2],board[3]))\n",
    "    print(\"   |   |   \")"
   ]
  },
  {
   "cell_type": "code",
   "execution_count": null,
   "id": "4694b841",
   "metadata": {},
   "outputs": [],
   "source": [
    "def player_input():\n",
    "\n",
    "    player1 =''\n",
    "    while player1 != 'X' and player1!= 'O':\n",
    "        player1 = input(\"Player1, Choose your marker: 'X' OR 'O'  \")\n",
    "        player1 = player1.upper()\n",
    "    if player1 == 'X':\n",
    "        return ('X','O')\n",
    "    else:\n",
    "        return ('O','X')"
   ]
  },
  {
   "cell_type": "code",
   "execution_count": null,
   "id": "b6af146a",
   "metadata": {},
   "outputs": [],
   "source": [
    "def place_marker(board, marker, position):\n",
    "    board[position] = marker    "
   ]
  },
  {
   "cell_type": "code",
   "execution_count": null,
   "id": "be104387",
   "metadata": {},
   "outputs": [],
   "source": [
    "def win_check(board, marker):\n",
    "    if board[1:4] == [marker*3] or board[4:7] == [marker]*3 or board[7:10] == [marker]*3 or board[1::3] == [marker]*3 or board[2::3] == [marker]*3 or board[3::3] == [marker]*3 or board[1::4] == [marker]*3 or board[3:8:2] == [marker]*3:\n",
    "        return True"
   ]
  },
  {
   "cell_type": "code",
   "execution_count": null,
   "id": "1e74a8e8",
   "metadata": {},
   "outputs": [],
   "source": [
    "import random \n",
    "def first_try():\n",
    "    if random.randint(0,1):\n",
    "        return 'Player1'\n",
    "    else:\n",
    "        return 'Player2'\n",
    "    "
   ]
  },
  {
   "cell_type": "code",
   "execution_count": null,
   "id": "a03a237c",
   "metadata": {},
   "outputs": [],
   "source": [
    "def space_avail(board, position):\n",
    "    if position == 0:\n",
    "        return False\n",
    "    return board[position] == ' '"
   ]
  },
  {
   "cell_type": "code",
   "execution_count": null,
   "id": "02fd959f",
   "metadata": {},
   "outputs": [],
   "source": [
    "def full_board_check(board):\n",
    "    for i in range(1,10):\n",
    "        if space_avail(board,i):\n",
    "            return False\n",
    "    return True"
   ]
  },
  {
   "cell_type": "code",
   "execution_count": null,
   "id": "b65f4812",
   "metadata": {},
   "outputs": [],
   "source": [
    "def player_turn(board):\n",
    "    \n",
    "    position = 0\n",
    "    while position not in range(1,10) or not space_avail(board,position) :\n",
    "        position = int(input('Enter your position:(1,9) '))\n",
    "    return position       "
   ]
  },
  {
   "cell_type": "code",
   "execution_count": null,
   "id": "e1ff8c80",
   "metadata": {},
   "outputs": [],
   "source": [
    "def replay():\n",
    "    return input(\"Do you want to play again? Y or N: \").upper().startswith('Y')\n",
    "    "
   ]
  },
  {
   "cell_type": "code",
   "execution_count": null,
   "id": "67a04d67",
   "metadata": {},
   "outputs": [],
   "source": [
    "print(\"The TIC-TAC-TOE Game\")\n",
    "while True: \n",
    "    \n",
    "    board = [' ']*10 \n",
    "    player1_mark, player2_mark = player_input()\n",
    "    \n",
    "    turn = first_try()\n",
    "    print(f'{turn} will go first: ')\n",
    "    \n",
    "    play_game = input(\"Ready to start? Y or N: \")\n",
    "    if play_game.upper() == 'Y':\n",
    "        game_on = True\n",
    "    else:\n",
    "        game_on = False\n",
    "    \n",
    "    \n",
    "    while game_on:\n",
    "        if turn == 'Player1':\n",
    "            #player1 turn\n",
    "            display_board(board) #show the board\n",
    "            #choose a position\n",
    "            position = player_turn(board)\n",
    "            \n",
    "            #place the marker on the position\n",
    "            place_marker(board, player1_mark, position)\n",
    "            #check if they won\n",
    "            if win_check(board,player1_mark):\n",
    "                display_board(board)\n",
    "                print(\"Player1 has won!\")\n",
    "                game_on =False\n",
    "            \n",
    "            #check if its a tie\n",
    "            else:\n",
    "                if full_board_check(board):\n",
    "                    display_board(board)\n",
    "                    print(\"It was a Tie!\")\n",
    "                    game_on =False\n",
    "            #else player 2 turn\n",
    "                else:\n",
    "                    turn ='Player2'\n",
    "            \n",
    "            \n",
    "            \n",
    "        else:\n",
    "            #player2 turn\n",
    "            display_board(board) #show the board\n",
    "            #choose a position\n",
    "            position = player_turn(board)\n",
    "            \n",
    "            #place the marker on the position\n",
    "            place_marker(board, player2_mark, position)\n",
    "            #check if they won\n",
    "            if win_check(board,player2_mark):\n",
    "                display_board(board)\n",
    "                print(\"Player2 has won!\")\n",
    "                game_on =False\n",
    "            \n",
    "            #check if its a tie\n",
    "            else:\n",
    "                if full_board_check(board):\n",
    "                    display_board(board)\n",
    "                    print(\"It was a Tie!\")\n",
    "                    game_on =False\n",
    "            #else player 2 turn\n",
    "                else:\n",
    "                    turn ='Player1'\n",
    "            \n",
    "        \n",
    "        \n",
    "    if not replay():\n",
    "        break"
   ]
  }
 ],
 "metadata": {
  "kernelspec": {
   "display_name": "Python 3 (ipykernel)",
   "language": "python",
   "name": "python3"
  },
  "language_info": {
   "codemirror_mode": {
    "name": "ipython",
    "version": 3
   },
   "file_extension": ".py",
   "mimetype": "text/x-python",
   "name": "python",
   "nbconvert_exporter": "python",
   "pygments_lexer": "ipython3",
   "version": "3.9.12"
  }
 },
 "nbformat": 4,
 "nbformat_minor": 5
}
